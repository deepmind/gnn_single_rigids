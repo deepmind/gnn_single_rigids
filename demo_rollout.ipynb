{
  "cells": [
    {
      "cell_type": "markdown",
      "metadata": {
        "id": "ctIEjdIP44aq"
      },
      "source": [
        "Copyright 2022 DeepMind Technologies Limited\n",
        "\n",
        "Licensed under the Apache License, Version 2.0 (the \"License\"); you may not use this file except in compliance with the License. You may obtain a copy of the License at\n",
        "\n",
        " https://www.apache.org/licenses/LICENSE-2.0\n",
        "Unless required by applicable law or agreed to in writing, software distributed under the License is distributed on an \"AS IS\" BASIS, WITHOUT WARRANTIES OR CONDITIONS OF ANY KIND, either express or implied. See the License for the specific language governing permissions and limitations under the License."
      ]
    },
    {
      "cell_type": "markdown",
      "metadata": {
        "id": "u00D4DRq5CwI"
      },
      "source": [
        "# Demo rollout for real cube trajectory from ContactNets dataset (Pfrommer et al, 2020)"
      ]
    },
    {
      "cell_type": "code",
      "execution_count": null,
      "metadata": {
        "id": "p5r_Zcr05Poh"
      },
      "outputs": [],
      "source": [
        "#@title Installation (skip if running locally)\n",
        "# Note, this should be skipped if running locally.\n",
        "!mkdir /content/gnn_single_rigids\n",
        "!mkdir /content/gnn_single_rigids/src\n",
        "!touch /content/gnn_single_rigids/__init__.py\n",
        "!touch /content/gnn_single_rigids/src/__init__.py\n",
        "\n",
        "!wget -O /content/gnn_single_rigids/src/graph_network.py https://raw.githubusercontent.com/deepmind/master/gnn_single_rigids/src/graph_network.py\n",
        "!wget -O /content/gnn_single_rigids/src/learned_simulator.py https://raw.githubusercontent.com/deepmind/master/gnn_single_rigids/src/learned_simulator.py\n",
        "!wget -O /content/gnn_single_rigids/src/utils.py https://raw.githubusercontent.com/deepmind/master/gnn_single_rigids/src/utils.py\n",
        "!wget -O /content/gnn_single_rigids/src/normalizers.py https://raw.githubusercontent.com/deepmind/master/gnn_single_rigids/src/normalizers.py\n",
        "!wget -O /content/gnn_single_rigids/src/meshtools.py https://raw.githubusercontent.com/deepmind/master/gnn_single_rigids/src/meshtools.py\n",
        "!wget -O /content/gnn_single_rigids/src/rollout.py https://raw.githubusercontent.com/deepmind/master/gnn_single_rigids/src/rollout.py\n",
        "\n",
        "!wget -O /content/requirements.txt https://raw.githubusercontent.com/deepmind/master/gnn_single_rigids/requirements.txt\n",
        "!pip install -r requirements.txt"
      ]
    },
    {
      "cell_type": "code",
      "execution_count": null,
      "metadata": {
        "id": "OlW65F0TTJj3"
      },
      "outputs": [],
      "source": [
        "#@title Download weights from google cloud storage if running in colab \n",
        "#(skip if running locally)\n",
        "from google.colab import auth\n",
        "auth.authenticate_user()\n",
        "\n",
        "!gsutil cp gs://dm_gnn_single_rigids/example_real_toss.pkl .\n",
        "!gsutil cp gs://dm_gnn_single_rigids/gns_params.pkl ."
      ]
    },
    {
      "cell_type": "code",
      "execution_count": null,
      "metadata": {
        "id": "eYHGe9ab-cQn"
      },
      "outputs": [],
      "source": [
        "#@title imports\n",
        "import pickle\n",
        "import functools\n",
        "import jraph\n",
        "import numpy as np\n",
        "import scipy\n",
        "\n",
        "from gnn_single_rigids.src import utils\n",
        "from gnn_single_rigids.src import learned_simulator\n",
        "from gnn_single_rigids.src import rollout\n",
        "from gnn_single_rigids.src import meshtools"
      ]
    },
    {
      "cell_type": "code",
      "execution_count": null,
      "metadata": {
        "id": "lSyIPkyKc4fT"
      },
      "outputs": [],
      "source": [
        "#@title convert data formatted as [translation, quaternion] for consecutive \n",
        "#time-steps into sequence of graphs tuples\n",
        "def convert_states_to_graph_sequence(src_data,\n",
        "                                     cube_size=2.0,\n",
        "                                     num_history_frames=3):\n",
        "  \"\"\"Converts dataframe to sequence of graphs tuples.\"\"\"\n",
        "  # first get the mesh for the cube\n",
        "  box = meshtools.transform(meshtools.make_unit_box(), scale=cube_size)\n",
        "  verts = box.verts\n",
        "  faces = meshtools.triangulate(box.faces)\n",
        "  # get edges between nodes depending on faces\n",
        "  mesh_senders, mesh_receivers = meshtools.triangles_to_edges(faces)\n",
        "\n",
        "  # convert nodes in mesh + translation / rotation of center of mass \n",
        "  # into sequence of node positions\n",
        "  num_frames = len(src_data)\n",
        "  node_pos = []\n",
        "  for frame_idx in range(num_frames):\n",
        "    trans_com = src_data[frame_idx][0:3] * 2.0 / cube_size\n",
        "    wijk_quat = src_data[frame_idx][3:7]\n",
        "\n",
        "    # scipy uses ijkw so transform before applying to vertices\n",
        "    rot_com = scipy.spatial.transform.Rotation.from_quat(\n",
        "        wijk_quat[[1, 2, 3, 0]])\n",
        "    node_pos.append(rot_com.apply(verts) + trans_com)\n",
        "\n",
        "  # create sequence of graphs tuples with the appropriate history length\n",
        "  graph_sequence = []\n",
        "  for frame_idx in range(num_history_frames, num_frames):\n",
        "    node_features = {\n",
        "        \"external_mask\": np.zeros((verts.shape[0],)),\n",
        "        \"world_position\": np.stack(node_pos[frame_idx - \n",
        "                                            num_history_frames:frame_idx], \n",
        "                                   axis=1),\n",
        "        \"mesh_position\": verts,\n",
        "    }\n",
        "    graph = jraph.GraphsTuple(\n",
        "        n_node=np.array([verts.shape[0]]),\n",
        "        n_edge=np.array([mesh_senders.shape[0]]),\n",
        "        nodes=node_features, edges={}, senders=mesh_senders, \n",
        "        receivers=mesh_receivers, globals=np.array([[]]))\n",
        "    graph_sequence.append(graph)\n",
        "\n",
        "  return graph_sequence"
      ]
    },
    {
      "cell_type": "code",
      "execution_count": null,
      "metadata": {
        "id": "MFnIMeFMO8NX"
      },
      "outputs": [],
      "source": [
        "#@title Load data\n",
        "with open(\"gns_params.pkl\", \"rb\") as f:\n",
        "  pickled_data = pickle.loads(f.read())\n",
        "  network = pickled_data[\"network\"]\n",
        "  state = pickled_data[\"state\"]\n",
        "  plan = pickled_data[\"plan\"]\n",
        "\n",
        "# tosses contains 1 example real cube tossing trajectory from \n",
        "# Pfrommer et al CoRL 2020\n",
        "with open(\"example_real_toss.pkl\", \"rb\") as f:\n",
        "  tosses_data = pickle.loads(f.read())\n"
      ]
    },
    {
      "cell_type": "code",
      "execution_count": null,
      "metadata": {
        "id": "QprFcF_WTOwr"
      },
      "outputs": [],
      "source": [
        "#@title convert data to sequence of graphs tuples\n",
        "cube_size = 2.0\n",
        "graph_sequence = convert_states_to_graph_sequence(tosses_data[0], \n",
        "                                                  cube_size=cube_size, \n",
        "                                                  num_history_frames=3)"
      ]
    },
    {
      "cell_type": "code",
      "execution_count": null,
      "metadata": {
        "id": "nsseRN0lTBY5"
      },
      "outputs": [],
      "source": [
        "#@title make a predicted rollout with graph network simulator\n",
        "flatten_fn = functools.partial(utils.flatten_features, **plan['flatten_kwargs'])\n",
        "haiku_model = functools.partial(learned_simulator.LearnedSimulator, \n",
        "                                flatten_features_fn=flatten_fn, \n",
        "                                graph_network_kwargs=plan['graph_network_kwargs'])\n",
        "\n",
        "p_rollout = rollout.get_predicted_trajectory(graph_sequence, \n",
        "                                             {'state': state, 'params':network}, \n",
        "                                             haiku_model, utils.forward_graph)"
      ]
    },
    {
      "cell_type": "code",
      "execution_count": null,
      "metadata": {
        "id": "Te_7uFb02hR6"
      },
      "outputs": [],
      "source": [
        "#@title visualize ground truth compared to predicted\n",
        "import plotly.graph_objects as go\n",
        "\n",
        "# initialize cube and plotting elements\n",
        "gt_sequence = graph_sequence\n",
        "rollout_sequence = p_rollout\n",
        "elements = []\n",
        "frames = []\n",
        "sliders = None\n",
        "box = meshtools.transform(meshtools.make_unit_box(), scale=cube_size)\n",
        "\n",
        "def plot_mesh(data, mesh, color, flat=True, opacity=1.0):\n",
        "  # plots the cube mesh\n",
        "  tris = meshtools.triangulate(mesh.faces)\n",
        "  data.append(go.Mesh3d(\n",
        "      flatshading=flat,\n",
        "      lighting=dict(fresnel=0, specular=0, ambient=0.2, diffuse=1),\n",
        "      color=color,\n",
        "      opacity=opacity,\n",
        "      lightposition=dict(x=-10, y=-10, z=50),\n",
        "      i=tris[:, 0], j=tris[:, 1], k=tris[:, 2],\n",
        "      x=mesh.verts[:, 0], y=mesh.verts[:, 1], z=mesh.verts[:, 2]))\n",
        "\n",
        "def plot_floor(data, mesh, color):\n",
        "  # plots the floor as a solid surface\n",
        "  floor_verts = mesh.verts[:, 2] \u003c= mesh.verts[:, 2].min() + 1e-6\n",
        "  floor_faces = np.all(floor_verts[mesh.faces], axis=1)\n",
        "  plot_mesh(data, meshtools.Mesh(mesh.verts, mesh.faces[floor_faces]), color)\n",
        "\n",
        "slider_steps = []\n",
        "b_min = np.ones(3)*1000\n",
        "b_max = np.ones(3)*-1000\n",
        "\n",
        "for frame_idx in range(0, len(gt_sequence)):\n",
        "  gt_frame = gt_sequence[frame_idx]\n",
        "  p_frame = rollout_sequence[frame_idx]\n",
        "  gt_pos = gt_frame.nodes['world_position'][:, -1]\n",
        "  p_pos = p_frame.nodes['world_position'][:, -1]\n",
        "\n",
        "  # track the minimum / maximum for plotting\n",
        "  b_min = np.minimum(b_min, np.minimum(gt_pos.min(0), p_pos.min(0)))\n",
        "  b_max = np.maximum(b_max, np.maximum(gt_pos.max(0), p_pos.max(0)))\n",
        "\n",
        "  # make meshes for plotting\n",
        "  gt_mesh = meshtools.Mesh(verts=gt_pos, faces=box.faces)\n",
        "  p_mesh = meshtools.Mesh(verts=p_pos, faces=box.faces)\n",
        "\n",
        "  data = []\n",
        "\n",
        "  # plot meshes\n",
        "  plot_mesh(data, gt_mesh, \"red\", flat=False, opacity=0.2)\n",
        "  plot_mesh(data, p_mesh, \"royalblue\", flat=False, opacity=1)\n",
        "\n",
        "  # append to frames\n",
        "  frames.append(go.Frame(name=frame_idx, data=data))\n",
        "  slider_steps.append(dict(\n",
        "      method=\"animate\",\n",
        "      label=frame_idx,\n",
        "      args=[[frame_idx], dict(\n",
        "          frame=dict(duration=0),\n",
        "          mode=\"immediate\",\n",
        "          transition=dict(duration=0))]))\n",
        "  sliders = [dict(\n",
        "      transition=dict(duration=0, easing=\"linear\"),\n",
        "      steps=slider_steps)]\n",
        "\n",
        "# make the floor and plot it\n",
        "elements.extend(frames[0][\"data\"])\n",
        "b_min[2] = 0\n",
        "b_center = 0.5 * (b_min + b_max)\n",
        "b_center[2] += 1e-3\n",
        "b_size = b_max - b_min\n",
        "domain = meshtools.transform(meshtools.make_unit_box(),\n",
        "                             scale=b_size, translate=b_center)\n",
        "plot_floor(elements, domain, \"lightgray\")\n",
        "\n",
        "# create figure for viewing\n",
        "fig = go.Figure(data=elements, frames=frames, layout=go.Layout(\n",
        "    scene_aspectmode=\"data\",\n",
        "    showlegend=False,\n",
        "    width=800,\n",
        "    height=800,\n",
        "    sliders=sliders,\n",
        "    scene=dict(camera=dict(up=dict(x=0, y=0, z=1))),\n",
        "))\n",
        "fig.show()"
      ]
    }
  ],
  "metadata": {
    "colab": {
      "private_outputs": true,
      "provenance": [
        {
          "file_id": "1vMHnON8jXOPgPAdHY1xbksOEHcVRu2z9",
          "timestamp": 1669741257350
        },
        {
          "file_id": "1bHb2szUEMLP2gKErlnxrigutZyhZ4reh",
          "timestamp": 1669040534792
        },
        {
          "file_id": "1jrPkT2OlRGUpImN2cVetBtQ9PgFelNgy",
          "timestamp": 1665137721073
        },
        {
          "file_id": "144LaPYCJpaCSUX6jMoampo0dTMICcXWV",
          "timestamp": 1640626024159
        },
        {
          "file_id": "1B31Dl0yzZlW22l-X7qSR5S4w1nOHPAg0",
          "timestamp": 1640104963946
        },
        {
          "file_id": "1MXdt8a59t0hLm7Q1Prem3kdHpnixMOeJ",
          "timestamp": 1639481266768
        },
        {
          "file_id": "14OG1REDMq3i9phUABzuSWg3nQhUD_ozK",
          "timestamp": 1639156624846
        }
      ]
    },
    "kernelspec": {
      "display_name": "Python 3",
      "name": "python3"
    },
    "language_info": {
      "name": "python"
    }
  },
  "nbformat": 4,
  "nbformat_minor": 0
}
